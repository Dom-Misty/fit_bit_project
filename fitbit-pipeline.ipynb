{
 "cells": [
  {
   "cell_type": "markdown",
   "metadata": {},
   "source": [
    "## Analyzing fitbit data from one person over a few months"
   ]
  },
  {
   "cell_type": "markdown",
   "metadata": {},
   "source": [
    "### Goals"
   ]
  },
  {
   "cell_type": "markdown",
   "metadata": {},
   "source": [
    "### Hypothesis"
   ]
  },
  {
   "cell_type": "markdown",
   "metadata": {},
   "source": [
    "### Findings"
   ]
  },
  {
   "cell_type": "markdown",
   "metadata": {},
   "source": [
    "### Data Dictionary"
   ]
  },
  {
   "cell_type": "code",
   "execution_count": 1,
   "metadata": {},
   "outputs": [],
   "source": [
    "# data manipulation\n",
    "import pandas as pd\n",
    "import numpy as np\n",
    "\n",
    "from sklearn.model_selection import TimeSeriesSplit\n",
    "from sklearn import metrics\n",
    "\n",
    "import math\n",
    "from datetime import datetime\n",
    "\n",
    "# visualizations\n",
    "import matplotlib.pyplot as plt\n",
    "import seaborn as sns\n",
    "import statsmodels.api as sm\n",
    "\n",
    "# py files for reproducibility \n",
    "import prepare\n",
    "import explore\n",
    "\n",
    "# ignore warnings\n",
    "import warnings\n",
    "warnings.filterwarnings(\"ignore\")"
   ]
  },
  {
   "cell_type": "markdown",
   "metadata": {},
   "source": [
    "## Acquire"
   ]
  },
  {
   "cell_type": "markdown",
   "metadata": {},
   "source": [
    "Download csv files from \"thumbdrive\" with fitbit data\n",
    "\n",
    "In excel, copy and pasted all activity logs into one file\n",
    "\n",
    "Read in newly created csv file"
   ]
  },
  {
   "cell_type": "code",
   "execution_count": 12,
   "metadata": {},
   "outputs": [],
   "source": [
    "df = pd.read_csv('activity_log.csv')"
   ]
  },
  {
   "cell_type": "markdown",
   "metadata": {},
   "source": [
    "## Prepare"
   ]
  },
  {
   "cell_type": "code",
   "execution_count": 16,
   "metadata": {},
   "outputs": [
    {
     "name": "stdout",
     "output_type": "stream",
     "text": [
      "<class 'pandas.core.frame.DataFrame'>\n",
      "DatetimeIndex: 225 entries, 2018-04-26 to 2018-12-06\n",
      "Data columns (total 9 columns):\n",
      "cal_burned             225 non-null float64\n",
      "steps                  225 non-null float64\n",
      "distance               225 non-null float64\n",
      "floors                 225 non-null int64\n",
      "mins_sedentary         225 non-null float64\n",
      "mins_light_activity    225 non-null int64\n",
      "mins_fair_activity     225 non-null int64\n",
      "mins_very_active       225 non-null int64\n",
      "activity_cals          225 non-null float64\n",
      "dtypes: float64(5), int64(4)\n",
      "memory usage: 17.6 KB\n"
     ]
    },
    {
     "data": {
      "text/html": [
       "<div>\n",
       "<style scoped>\n",
       "    .dataframe tbody tr th:only-of-type {\n",
       "        vertical-align: middle;\n",
       "    }\n",
       "\n",
       "    .dataframe tbody tr th {\n",
       "        vertical-align: top;\n",
       "    }\n",
       "\n",
       "    .dataframe thead th {\n",
       "        text-align: right;\n",
       "    }\n",
       "</style>\n",
       "<table border=\"1\" class=\"dataframe\">\n",
       "  <thead>\n",
       "    <tr style=\"text-align: right;\">\n",
       "      <th></th>\n",
       "      <th>cal_burned</th>\n",
       "      <th>steps</th>\n",
       "      <th>distance</th>\n",
       "      <th>floors</th>\n",
       "      <th>mins_sedentary</th>\n",
       "      <th>mins_light_activity</th>\n",
       "      <th>mins_fair_activity</th>\n",
       "      <th>mins_very_active</th>\n",
       "      <th>activity_cals</th>\n",
       "    </tr>\n",
       "    <tr>\n",
       "      <th>date</th>\n",
       "      <th></th>\n",
       "      <th></th>\n",
       "      <th></th>\n",
       "      <th></th>\n",
       "      <th></th>\n",
       "      <th></th>\n",
       "      <th></th>\n",
       "      <th></th>\n",
       "      <th></th>\n",
       "    </tr>\n",
       "  </thead>\n",
       "  <tbody>\n",
       "    <tr>\n",
       "      <th>2018-04-26</th>\n",
       "      <td>2635.0</td>\n",
       "      <td>2931.0</td>\n",
       "      <td>1.38</td>\n",
       "      <td>2</td>\n",
       "      <td>1347.0</td>\n",
       "      <td>93</td>\n",
       "      <td>0</td>\n",
       "      <td>0</td>\n",
       "      <td>566.0</td>\n",
       "    </tr>\n",
       "    <tr>\n",
       "      <th>2018-04-27</th>\n",
       "      <td>3649.0</td>\n",
       "      <td>9971.0</td>\n",
       "      <td>4.70</td>\n",
       "      <td>19</td>\n",
       "      <td>1158.0</td>\n",
       "      <td>219</td>\n",
       "      <td>46</td>\n",
       "      <td>17</td>\n",
       "      <td>1752.0</td>\n",
       "    </tr>\n",
       "    <tr>\n",
       "      <th>2018-04-28</th>\n",
       "      <td>3379.0</td>\n",
       "      <td>3521.0</td>\n",
       "      <td>1.66</td>\n",
       "      <td>2</td>\n",
       "      <td>702.0</td>\n",
       "      <td>155</td>\n",
       "      <td>22</td>\n",
       "      <td>11</td>\n",
       "      <td>1124.0</td>\n",
       "    </tr>\n",
       "    <tr>\n",
       "      <th>2018-04-29</th>\n",
       "      <td>2851.0</td>\n",
       "      <td>1639.0</td>\n",
       "      <td>0.77</td>\n",
       "      <td>0</td>\n",
       "      <td>891.0</td>\n",
       "      <td>122</td>\n",
       "      <td>0</td>\n",
       "      <td>0</td>\n",
       "      <td>602.0</td>\n",
       "    </tr>\n",
       "    <tr>\n",
       "      <th>2018-04-30</th>\n",
       "      <td>2825.0</td>\n",
       "      <td>1323.0</td>\n",
       "      <td>0.62</td>\n",
       "      <td>0</td>\n",
       "      <td>880.0</td>\n",
       "      <td>104</td>\n",
       "      <td>0</td>\n",
       "      <td>0</td>\n",
       "      <td>540.0</td>\n",
       "    </tr>\n",
       "  </tbody>\n",
       "</table>\n",
       "</div>"
      ],
      "text/plain": [
       "            cal_burned   steps  distance  floors  mins_sedentary  \\\n",
       "date                                                               \n",
       "2018-04-26      2635.0  2931.0      1.38       2          1347.0   \n",
       "2018-04-27      3649.0  9971.0      4.70      19          1158.0   \n",
       "2018-04-28      3379.0  3521.0      1.66       2           702.0   \n",
       "2018-04-29      2851.0  1639.0      0.77       0           891.0   \n",
       "2018-04-30      2825.0  1323.0      0.62       0           880.0   \n",
       "\n",
       "            mins_light_activity  mins_fair_activity  mins_very_active  \\\n",
       "date                                                                    \n",
       "2018-04-26                   93                   0                 0   \n",
       "2018-04-27                  219                  46                17   \n",
       "2018-04-28                  155                  22                11   \n",
       "2018-04-29                  122                   0                 0   \n",
       "2018-04-30                  104                   0                 0   \n",
       "\n",
       "            activity_cals  \n",
       "date                       \n",
       "2018-04-26          566.0  \n",
       "2018-04-27         1752.0  \n",
       "2018-04-28         1124.0  \n",
       "2018-04-29          602.0  \n",
       "2018-04-30          540.0  "
      ]
     },
     "execution_count": 16,
     "metadata": {},
     "output_type": "execute_result"
    }
   ],
   "source": [
    "df.info()\n",
    "df.head()"
   ]
  },
  {
   "cell_type": "markdown",
   "metadata": {},
   "source": [
    "Rename columns for ease-of-access and readability. \n",
    "\n",
    "Change the date to a datetime format, set as index, and sort. \n",
    "\n",
    "Remove commas from object columns and change to float columns."
   ]
  },
  {
   "cell_type": "code",
   "execution_count": 13,
   "metadata": {},
   "outputs": [],
   "source": [
    "df = prepare.get_fitbit_data()"
   ]
  },
  {
   "cell_type": "code",
   "execution_count": 15,
   "metadata": {},
   "outputs": [
    {
     "name": "stdout",
     "output_type": "stream",
     "text": [
      "<class 'pandas.core.frame.DataFrame'>\n",
      "DatetimeIndex: 225 entries, 2018-04-26 to 2018-12-06\n",
      "Data columns (total 9 columns):\n",
      "cal_burned             225 non-null float64\n",
      "steps                  225 non-null float64\n",
      "distance               225 non-null float64\n",
      "floors                 225 non-null int64\n",
      "mins_sedentary         225 non-null float64\n",
      "mins_light_activity    225 non-null int64\n",
      "mins_fair_activity     225 non-null int64\n",
      "mins_very_active       225 non-null int64\n",
      "activity_cals          225 non-null float64\n",
      "dtypes: float64(5), int64(4)\n",
      "memory usage: 17.6 KB\n"
     ]
    }
   ],
   "source": [
    "df.info()"
   ]
  },
  {
   "cell_type": "markdown",
   "metadata": {},
   "source": [
    "### Explore"
   ]
  },
  {
   "cell_type": "code",
   "execution_count": null,
   "metadata": {},
   "outputs": [],
   "source": []
  }
 ],
 "metadata": {
  "kernelspec": {
   "display_name": "Python 3",
   "language": "python",
   "name": "python3"
  },
  "language_info": {
   "codemirror_mode": {
    "name": "ipython",
    "version": 3
   },
   "file_extension": ".py",
   "mimetype": "text/x-python",
   "name": "python",
   "nbconvert_exporter": "python",
   "pygments_lexer": "ipython3",
   "version": "3.7.3"
  }
 },
 "nbformat": 4,
 "nbformat_minor": 2
}
