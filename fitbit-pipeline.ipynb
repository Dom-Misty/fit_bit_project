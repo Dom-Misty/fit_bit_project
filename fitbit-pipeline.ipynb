{
 "cells": [
  {
   "cell_type": "markdown",
   "metadata": {},
   "source": [
    "## Analyzing fitbit data from one person over a few months"
   ]
  },
  {
   "cell_type": "markdown",
   "metadata": {},
   "source": [
    "### Project Plan"
   ]
  },
  {
   "cell_type": "markdown",
   "metadata": {},
   "source": [
    "Goals \n",
    "- Use timeseries analysis\n",
    "- Label the data\n",
    "- Predict the next two weeks\n",
    "\n",
    "Hypothesis\n",
    "- um"
   ]
  },
  {
   "cell_type": "markdown",
   "metadata": {},
   "source": [
    "### Data Dictionary"
   ]
  },
  {
   "cell_type": "markdown",
   "metadata": {},
   "source": [
    "| variable | description   | units  |\n",
    "|---|---|---|\n",
    "| cal_burned  | the number of calories burned  | number  |\n",
    "| activity_cals  |  the number of calories due to activity |  number |\n",
    "| steps  | the number of steps taken |  number |\n",
    "| distance  | the distance traveled  | miles  |\n",
    "| floors  | the distance traveled upwards  | 10 feet  |\n",
    "| mins_sedentary  | length of sedentary activity | mins   |\n",
    "| mins_light_activity  | length of light activity  | mins  |\n",
    "| mins_fair_activity  | length of fair activity  | mins  |\n",
    "| mins_very_active  | length of heavy activity  |  mins |\n",
    "| mins_total_activity  | lenth of total activity  |  mins |\n",
    "| day  | the day of the week  | n/a  |"
   ]
  },
  {
   "cell_type": "code",
   "execution_count": 37,
   "metadata": {},
   "outputs": [
    {
     "name": "stdout",
     "output_type": "stream",
     "text": [
      "<class 'pandas.core.frame.DataFrame'>\n",
      "DatetimeIndex: 225 entries, 2018-04-26 to 2018-12-06\n",
      "Data columns (total 11 columns):\n",
      "cal_burned             225 non-null float64\n",
      "steps                  225 non-null float64\n",
      "distance               225 non-null float64\n",
      "floors                 225 non-null float64\n",
      "mins_sedentary         225 non-null float64\n",
      "mins_light_activity    225 non-null float64\n",
      "mins_fair_activity     225 non-null float64\n",
      "mins_very_active       225 non-null float64\n",
      "activity_cals          225 non-null float64\n",
      "mins_total_activity    225 non-null float64\n",
      "day                    225 non-null object\n",
      "dtypes: float64(10), object(1)\n",
      "memory usage: 31.1+ KB\n"
     ]
    }
   ],
   "source": [
    "df.info()"
   ]
  },
  {
   "cell_type": "code",
   "execution_count": 8,
   "metadata": {},
   "outputs": [],
   "source": [
    "# data manipulation\n",
    "import pandas as pd\n",
    "import numpy as np\n",
    "\n",
    "from sklearn.model_selection import TimeSeriesSplit\n",
    "from sklearn import metrics\n",
    "\n",
    "import math\n",
    "from datetime import datetime\n",
    "\n",
    "# visualizations\n",
    "import matplotlib.pyplot as plt\n",
    "import seaborn as sns\n",
    "import statsmodels.api as sm\n",
    "\n",
    "# py files for reproducibility \n",
    "import prepare\n",
    "import explore\n",
    "import split\n",
    "import model\n",
    "\n",
    "# ignore warnings\n",
    "import warnings\n",
    "warnings.filterwarnings(\"ignore\")"
   ]
  },
  {
   "cell_type": "markdown",
   "metadata": {},
   "source": [
    "## Acquire"
   ]
  },
  {
   "cell_type": "markdown",
   "metadata": {},
   "source": [
    "Download csv files from \"thumbdrive\" with fitbit data\n",
    "\n",
    "In excel, copy and pasted all activity logs into one file\n",
    "\n",
    "Read in newly created csv file"
   ]
  },
  {
   "cell_type": "code",
   "execution_count": 9,
   "metadata": {},
   "outputs": [],
   "source": [
    "df = pd.read_csv('activity_log.csv')"
   ]
  },
  {
   "cell_type": "markdown",
   "metadata": {},
   "source": [
    "## Prepare"
   ]
  },
  {
   "cell_type": "code",
   "execution_count": 10,
   "metadata": {},
   "outputs": [
    {
     "name": "stdout",
     "output_type": "stream",
     "text": [
      "<class 'pandas.core.frame.DataFrame'>\n",
      "RangeIndex: 225 entries, 0 to 224\n",
      "Data columns (total 10 columns):\n",
      "Date                      225 non-null object\n",
      "Calories Burned           225 non-null object\n",
      "Steps                     225 non-null object\n",
      "Distance                  225 non-null float64\n",
      "Floors                    225 non-null int64\n",
      "Minutes Sedentary         225 non-null object\n",
      "Minutes Lightly Active    225 non-null int64\n",
      "Minutes Fairly Active     225 non-null int64\n",
      "Minutes Very Active       225 non-null int64\n",
      "Activity Calories         225 non-null object\n",
      "dtypes: float64(1), int64(4), object(5)\n",
      "memory usage: 17.7+ KB\n"
     ]
    },
    {
     "data": {
      "text/html": [
       "<div>\n",
       "<style scoped>\n",
       "    .dataframe tbody tr th:only-of-type {\n",
       "        vertical-align: middle;\n",
       "    }\n",
       "\n",
       "    .dataframe tbody tr th {\n",
       "        vertical-align: top;\n",
       "    }\n",
       "\n",
       "    .dataframe thead th {\n",
       "        text-align: right;\n",
       "    }\n",
       "</style>\n",
       "<table border=\"1\" class=\"dataframe\">\n",
       "  <thead>\n",
       "    <tr style=\"text-align: right;\">\n",
       "      <th></th>\n",
       "      <th>Date</th>\n",
       "      <th>Calories Burned</th>\n",
       "      <th>Steps</th>\n",
       "      <th>Distance</th>\n",
       "      <th>Floors</th>\n",
       "      <th>Minutes Sedentary</th>\n",
       "      <th>Minutes Lightly Active</th>\n",
       "      <th>Minutes Fairly Active</th>\n",
       "      <th>Minutes Very Active</th>\n",
       "      <th>Activity Calories</th>\n",
       "    </tr>\n",
       "  </thead>\n",
       "  <tbody>\n",
       "    <tr>\n",
       "      <th>0</th>\n",
       "      <td>4/26/18</td>\n",
       "      <td>2,635</td>\n",
       "      <td>2,931</td>\n",
       "      <td>1.38</td>\n",
       "      <td>2</td>\n",
       "      <td>1,347</td>\n",
       "      <td>93</td>\n",
       "      <td>0</td>\n",
       "      <td>0</td>\n",
       "      <td>566</td>\n",
       "    </tr>\n",
       "    <tr>\n",
       "      <th>1</th>\n",
       "      <td>4/27/18</td>\n",
       "      <td>3,649</td>\n",
       "      <td>9,971</td>\n",
       "      <td>4.70</td>\n",
       "      <td>19</td>\n",
       "      <td>1,158</td>\n",
       "      <td>219</td>\n",
       "      <td>46</td>\n",
       "      <td>17</td>\n",
       "      <td>1,752</td>\n",
       "    </tr>\n",
       "    <tr>\n",
       "      <th>2</th>\n",
       "      <td>4/28/18</td>\n",
       "      <td>3,379</td>\n",
       "      <td>3,521</td>\n",
       "      <td>1.66</td>\n",
       "      <td>2</td>\n",
       "      <td>702</td>\n",
       "      <td>155</td>\n",
       "      <td>22</td>\n",
       "      <td>11</td>\n",
       "      <td>1,124</td>\n",
       "    </tr>\n",
       "    <tr>\n",
       "      <th>3</th>\n",
       "      <td>4/29/18</td>\n",
       "      <td>2,851</td>\n",
       "      <td>1,639</td>\n",
       "      <td>0.77</td>\n",
       "      <td>0</td>\n",
       "      <td>891</td>\n",
       "      <td>122</td>\n",
       "      <td>0</td>\n",
       "      <td>0</td>\n",
       "      <td>602</td>\n",
       "    </tr>\n",
       "    <tr>\n",
       "      <th>4</th>\n",
       "      <td>4/30/18</td>\n",
       "      <td>2,825</td>\n",
       "      <td>1,323</td>\n",
       "      <td>0.62</td>\n",
       "      <td>0</td>\n",
       "      <td>880</td>\n",
       "      <td>104</td>\n",
       "      <td>0</td>\n",
       "      <td>0</td>\n",
       "      <td>540</td>\n",
       "    </tr>\n",
       "  </tbody>\n",
       "</table>\n",
       "</div>"
      ],
      "text/plain": [
       "      Date Calories Burned  Steps  Distance  Floors Minutes Sedentary  \\\n",
       "0  4/26/18           2,635  2,931      1.38       2             1,347   \n",
       "1  4/27/18           3,649  9,971      4.70      19             1,158   \n",
       "2  4/28/18           3,379  3,521      1.66       2               702   \n",
       "3  4/29/18           2,851  1,639      0.77       0               891   \n",
       "4  4/30/18           2,825  1,323      0.62       0               880   \n",
       "\n",
       "   Minutes Lightly Active  Minutes Fairly Active  Minutes Very Active  \\\n",
       "0                      93                      0                    0   \n",
       "1                     219                     46                   17   \n",
       "2                     155                     22                   11   \n",
       "3                     122                      0                    0   \n",
       "4                     104                      0                    0   \n",
       "\n",
       "  Activity Calories  \n",
       "0               566  \n",
       "1             1,752  \n",
       "2             1,124  \n",
       "3               602  \n",
       "4               540  "
      ]
     },
     "execution_count": 10,
     "metadata": {},
     "output_type": "execute_result"
    }
   ],
   "source": [
    "df.info()\n",
    "df.head()"
   ]
  },
  {
   "cell_type": "markdown",
   "metadata": {},
   "source": [
    "Rename columns for ease-of-access and readability. \n",
    "\n",
    "Change the date to a datetime format, set as index, and sort. \n",
    "\n",
    "Remove commas from object columns and change to float columns.\n",
    "\n",
    "Correct outlier cal_burned column to minimum value. \n",
    "\n",
    "Change all columns to floats."
   ]
  },
  {
   "cell_type": "code",
   "execution_count": 11,
   "metadata": {},
   "outputs": [],
   "source": [
    "df = prepare.prep_fitbit_data(df)"
   ]
  },
  {
   "cell_type": "code",
   "execution_count": 12,
   "metadata": {},
   "outputs": [
    {
     "name": "stdout",
     "output_type": "stream",
     "text": [
      "<class 'pandas.core.frame.DataFrame'>\n",
      "DatetimeIndex: 225 entries, 2018-04-26 to 2018-12-06\n",
      "Data columns (total 9 columns):\n",
      "cal_burned             225 non-null float64\n",
      "steps                  225 non-null float64\n",
      "distance               225 non-null float64\n",
      "floors                 225 non-null float64\n",
      "mins_sedentary         225 non-null float64\n",
      "mins_light_activity    225 non-null float64\n",
      "mins_fair_activity     225 non-null float64\n",
      "mins_very_active       225 non-null float64\n",
      "activity_cals          225 non-null float64\n",
      "dtypes: float64(9)\n",
      "memory usage: 27.6 KB\n"
     ]
    }
   ],
   "source": [
    "df.info()"
   ]
  },
  {
   "cell_type": "markdown",
   "metadata": {},
   "source": [
    "## Feature Engineering"
   ]
  },
  {
   "cell_type": "markdown",
   "metadata": {},
   "source": [
    "Derive the total minutes of activity \n",
    "\n",
    "Pull out day of the week"
   ]
  },
  {
   "cell_type": "code",
   "execution_count": 13,
   "metadata": {},
   "outputs": [],
   "source": [
    "df = prepare.add_features(df)"
   ]
  },
  {
   "cell_type": "code",
   "execution_count": 14,
   "metadata": {},
   "outputs": [
    {
     "name": "stdout",
     "output_type": "stream",
     "text": [
      "<class 'pandas.core.frame.DataFrame'>\n",
      "DatetimeIndex: 225 entries, 2018-04-26 to 2018-12-06\n",
      "Data columns (total 11 columns):\n",
      "cal_burned             225 non-null float64\n",
      "steps                  225 non-null float64\n",
      "distance               225 non-null float64\n",
      "floors                 225 non-null float64\n",
      "mins_sedentary         225 non-null float64\n",
      "mins_light_activity    225 non-null float64\n",
      "mins_fair_activity     225 non-null float64\n",
      "mins_very_active       225 non-null float64\n",
      "activity_cals          225 non-null float64\n",
      "mins_total_activity    225 non-null float64\n",
      "day                    225 non-null object\n",
      "dtypes: float64(10), object(1)\n",
      "memory usage: 31.1+ KB\n"
     ]
    }
   ],
   "source": [
    "df.info()"
   ]
  },
  {
   "cell_type": "markdown",
   "metadata": {},
   "source": [
    "### Explore"
   ]
  },
  {
   "cell_type": "code",
   "execution_count": null,
   "metadata": {},
   "outputs": [],
   "source": []
  },
  {
   "cell_type": "code",
   "execution_count": null,
   "metadata": {},
   "outputs": [],
   "source": []
  },
  {
   "cell_type": "markdown",
   "metadata": {},
   "source": [
    "### Split"
   ]
  },
  {
   "cell_type": "markdown",
   "metadata": {},
   "source": [
    "Split our data using a cutoff date that is two weeks long"
   ]
  },
  {
   "cell_type": "code",
   "execution_count": 15,
   "metadata": {},
   "outputs": [],
   "source": [
    "train, test = split.split_two_weeks(df,'D')"
   ]
  },
  {
   "cell_type": "code",
   "execution_count": 35,
   "metadata": {},
   "outputs": [
    {
     "name": "stdout",
     "output_type": "stream",
     "text": [
      "Observations: 225\n",
      "Training Observations: 211\n",
      "Testing Observations: 14\n"
     ]
    }
   ],
   "source": [
    "print('Observations: %d' % (len(train.values) + len(test.values)))\n",
    "print('Training Observations: %d' % (len(train)))\n",
    "print('Testing Observations: %d' % (len(test)))"
   ]
  },
  {
   "cell_type": "code",
   "execution_count": 36,
   "metadata": {},
   "outputs": [],
   "source": [
    "# for col in df.select_dtypes(np.number): \n",
    "#     plt.figure(figsize=(8, 4))\n",
    "#     train[col].plot()\n",
    "#     test[col].plot()\n",
    "#     plt.title(\"{}\".format(col))\n",
    "#     plt.show()"
   ]
  },
  {
   "cell_type": "markdown",
   "metadata": {},
   "source": [
    "### Model"
   ]
  },
  {
   "cell_type": "code",
   "execution_count": 20,
   "metadata": {
    "scrolled": true
   },
   "outputs": [
    {
     "name": "stdout",
     "output_type": "stream",
     "text": [
      "cal_burned\n",
      "   model_type            mse        rmse\n",
      "0  last_value  983262.214286  991.595792\n",
      "1  simple_avg  118407.765823  344.104295\n",
      "2  moving_avg  204561.102063  452.284316\n",
      "3        holt  402940.015638  634.775563\n",
      "\n",
      "steps\n",
      "   model_type           mse         rmse\n",
      "0  last_value  2.849573e+07  5338.138781\n",
      "1  simple_avg  2.264120e+07  4758.276728\n",
      "2  moving_avg  1.341157e+07  3662.180963\n",
      "3        holt  1.964230e+07  4431.963701\n",
      "\n",
      "distance\n",
      "   model_type       mse      rmse\n",
      "0  last_value  5.859221  2.420583\n",
      "1  simple_avg  6.330626  2.516073\n",
      "2  moving_avg  3.137327  1.771250\n",
      "3        holt  4.297116  2.072949\n",
      "\n",
      "floors\n",
      "   model_type           mse        rmse\n",
      "0  last_value  24951.642857  157.960890\n",
      "1  simple_avg   2426.347334   49.257967\n",
      "2  moving_avg   2220.363016   47.120728\n",
      "3        holt   2210.726439   47.018363\n",
      "\n",
      "mins_sedentary\n",
      "   model_type           mse        rmse\n",
      "0  last_value  23895.714286  154.582387\n",
      "1  simple_avg  31858.077909  178.488313\n",
      "2  moving_avg   6314.474921   79.463670\n",
      "3        holt  11458.005894  107.042075\n",
      "\n",
      "mins_light_activity\n",
      "   model_type          mse       rmse\n",
      "0  last_value  3403.071429  58.335850\n",
      "1  simple_avg  3707.924920  60.892733\n",
      "2  moving_avg  1225.565397  35.008076\n",
      "3        holt  3274.354242  57.221973\n",
      "\n",
      "mins_fair_activity\n",
      "   model_type         mse       rmse\n",
      "0  last_value  110.714286  10.522086\n",
      "1  simple_avg   93.170029   9.652462\n",
      "2  moving_avg  158.263968  12.580301\n",
      "3        holt  137.295690  11.717324\n",
      "\n",
      "mins_very_active\n",
      "   model_type          mse       rmse\n",
      "0  last_value  5184.071429  72.000496\n",
      "1  simple_avg  1242.973776  35.255833\n",
      "2  moving_avg  1565.056825  39.560799\n",
      "3        holt  1875.974828  43.312525\n",
      "\n",
      "activity_cals\n",
      "   model_type           mse         rmse\n",
      "0  last_value  1.130008e+06  1063.018109\n",
      "1  simple_avg  2.637829e+05   513.598004\n",
      "2  moving_avg  2.013535e+05   448.724252\n",
      "3        holt  5.030470e+05   709.258043\n",
      "\n",
      "mins_total_activity\n",
      "   model_type           mse        rmse\n",
      "0  last_value  14384.285714  119.934506\n",
      "1  simple_avg   5042.992841   71.014033\n",
      "2  moving_avg   1081.543968   32.886836\n",
      "3        holt   7817.869176   88.418715\n",
      "\n"
     ]
    }
   ],
   "source": [
    "for col in train.columns:\n",
    "    print(col)\n",
    "    print(model.run_models(train[col], test[col]))\n",
    "    print()"
   ]
  },
  {
   "cell_type": "code",
   "execution_count": null,
   "metadata": {},
   "outputs": [],
   "source": []
  }
 ],
 "metadata": {
  "kernelspec": {
   "display_name": "Python 3",
   "language": "python",
   "name": "python3"
  },
  "language_info": {
   "codemirror_mode": {
    "name": "ipython",
    "version": 3
   },
   "file_extension": ".py",
   "mimetype": "text/x-python",
   "name": "python",
   "nbconvert_exporter": "python",
   "pygments_lexer": "ipython3",
   "version": "3.7.3"
  }
 },
 "nbformat": 4,
 "nbformat_minor": 2
}
